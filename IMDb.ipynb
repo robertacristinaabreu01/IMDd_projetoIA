{
  "nbformat": 4,
  "nbformat_minor": 0,
  "metadata": {
    "colab": {
      "name": "IMDb.ipynb",
      "provenance": [],
      "authorship_tag": "ABX9TyPR1EeGd6Fqf/1+Vu0BHkHL",
      "include_colab_link": true
    },
    "kernelspec": {
      "name": "python3",
      "display_name": "Python 3"
    },
    "language_info": {
      "name": "python"
    },
    "accelerator": "GPU"
  },
  "cells": [
    {
      "cell_type": "markdown",
      "metadata": {
        "id": "view-in-github",
        "colab_type": "text"
      },
      "source": [
        "<a href=\"https://colab.research.google.com/github/robertacristinaabreu01/IMDd_projetoIA/blob/main/IMDb.ipynb\" target=\"_parent\"><img src=\"https://colab.research.google.com/assets/colab-badge.svg\" alt=\"Open In Colab\"/></a>"
      ]
    },
    {
      "cell_type": "markdown",
      "metadata": {
        "id": "EY05Iru_yYim"
      },
      "source": [
        "https://github.com/RobertaAb/covid-16-junho-DATASUS/blob/master/An%C3%A1lise%20de%20Dados%20DATASUS%2016-junho-2020.ipynb\n",
        "\n",
        "https://www.youtube.com/watch?v=8vKvsLTLDzs\n",
        "\n",
        "\n",
        "\n"
      ]
    },
    {
      "cell_type": "code",
      "metadata": {
        "id": "f8O4YjrvLTpd",
        "outputId": "b01d3de3-9fd7-420b-9866-2eb9b2fd0c57",
        "colab": {
          "base_uri": "https://localhost:8080/"
        }
      },
      "source": [
        "import pandas as pd\n",
        "from google.colab import drive\n",
        "\n",
        "drive.mount('/content/drive')"
      ],
      "execution_count": 1,
      "outputs": [
        {
          "output_type": "stream",
          "text": [
            "Mounted at /content/drive\n"
          ],
          "name": "stdout"
        }
      ]
    },
    {
      "cell_type": "code",
      "metadata": {
        "id": "dBO2MP6Ko_RA",
        "outputId": "7958c718-95a4-4dd5-f70d-8cd1aa7ac709",
        "colab": {
          "base_uri": "https://localhost:8080/"
        }
      },
      "source": [
        "!pip install --upgrade gspread\n"
      ],
      "execution_count": 4,
      "outputs": [
        {
          "output_type": "stream",
          "text": [
            "Collecting gspread\n",
            "  Downloading https://files.pythonhosted.org/packages/df/f0/e345e7159c89b898f183cc40ed9909619475492bb000652d709f395f096a/gspread-3.7.0-py3-none-any.whl\n",
            "Requirement already satisfied, skipping upgrade: google-auth>=1.12.0 in /usr/local/lib/python3.7/dist-packages (from gspread) (1.28.0)\n",
            "Requirement already satisfied, skipping upgrade: google-auth-oauthlib>=0.4.1 in /usr/local/lib/python3.7/dist-packages (from gspread) (0.4.3)\n",
            "Requirement already satisfied, skipping upgrade: setuptools>=40.3.0 in /usr/local/lib/python3.7/dist-packages (from google-auth>=1.12.0->gspread) (54.2.0)\n",
            "Requirement already satisfied, skipping upgrade: cachetools<5.0,>=2.0.0 in /usr/local/lib/python3.7/dist-packages (from google-auth>=1.12.0->gspread) (4.2.1)\n",
            "Requirement already satisfied, skipping upgrade: pyasn1-modules>=0.2.1 in /usr/local/lib/python3.7/dist-packages (from google-auth>=1.12.0->gspread) (0.2.8)\n",
            "Requirement already satisfied, skipping upgrade: rsa<5,>=3.1.4; python_version >= \"3.6\" in /usr/local/lib/python3.7/dist-packages (from google-auth>=1.12.0->gspread) (4.7.2)\n",
            "Requirement already satisfied, skipping upgrade: six>=1.9.0 in /usr/local/lib/python3.7/dist-packages (from google-auth>=1.12.0->gspread) (1.15.0)\n",
            "Requirement already satisfied, skipping upgrade: requests-oauthlib>=0.7.0 in /usr/local/lib/python3.7/dist-packages (from google-auth-oauthlib>=0.4.1->gspread) (1.3.0)\n",
            "Requirement already satisfied, skipping upgrade: pyasn1<0.5.0,>=0.4.6 in /usr/local/lib/python3.7/dist-packages (from pyasn1-modules>=0.2.1->google-auth>=1.12.0->gspread) (0.4.8)\n",
            "Requirement already satisfied, skipping upgrade: oauthlib>=3.0.0 in /usr/local/lib/python3.7/dist-packages (from requests-oauthlib>=0.7.0->google-auth-oauthlib>=0.4.1->gspread) (3.1.0)\n",
            "Requirement already satisfied, skipping upgrade: requests>=2.0.0 in /usr/local/lib/python3.7/dist-packages (from requests-oauthlib>=0.7.0->google-auth-oauthlib>=0.4.1->gspread) (2.23.0)\n",
            "Requirement already satisfied, skipping upgrade: chardet<4,>=3.0.2 in /usr/local/lib/python3.7/dist-packages (from requests>=2.0.0->requests-oauthlib>=0.7.0->google-auth-oauthlib>=0.4.1->gspread) (3.0.4)\n",
            "Requirement already satisfied, skipping upgrade: idna<3,>=2.5 in /usr/local/lib/python3.7/dist-packages (from requests>=2.0.0->requests-oauthlib>=0.7.0->google-auth-oauthlib>=0.4.1->gspread) (2.10)\n",
            "Requirement already satisfied, skipping upgrade: certifi>=2017.4.17 in /usr/local/lib/python3.7/dist-packages (from requests>=2.0.0->requests-oauthlib>=0.7.0->google-auth-oauthlib>=0.4.1->gspread) (2020.12.5)\n",
            "Requirement already satisfied, skipping upgrade: urllib3!=1.25.0,!=1.25.1,<1.26,>=1.21.1 in /usr/local/lib/python3.7/dist-packages (from requests>=2.0.0->requests-oauthlib>=0.7.0->google-auth-oauthlib>=0.4.1->gspread) (1.24.3)\n",
            "Installing collected packages: gspread\n",
            "  Found existing installation: gspread 3.0.1\n",
            "    Uninstalling gspread-3.0.1:\n",
            "      Successfully uninstalled gspread-3.0.1\n",
            "Successfully installed gspread-3.7.0\n"
          ],
          "name": "stdout"
        }
      ]
    },
    {
      "cell_type": "code",
      "metadata": {
        "id": "ZcxNTUBapMOd"
      },
      "source": [
        ""
      ],
      "execution_count": null,
      "outputs": []
    },
    {
      "cell_type": "code",
      "metadata": {
        "id": "pTOhdULSpMRi"
      },
      "source": [
        "from google.colab import auth\n",
        "auth.authenticate_user()\n",
        "\n",
        "import gspread\n",
        "from oauth2client.client import GoogleCredentials\n",
        "\n",
        "gc = gspread.authorize(GoogleCredentials.get_application_default())"
      ],
      "execution_count": 7,
      "outputs": []
    },
    {
      "cell_type": "code",
      "metadata": {
        "id": "5vVRxmS7qZaW"
      },
      "source": [
        "spreasheet = gc.open('imdb_top_1000')"
      ],
      "execution_count": 9,
      "outputs": []
    },
    {
      "cell_type": "code",
      "metadata": {
        "id": "CM8FYhuBrC_U"
      },
      "source": [
        "page = spreasheet.sheet1"
      ],
      "execution_count": 10,
      "outputs": []
    },
    {
      "cell_type": "code",
      "metadata": {
        "id": "7izlNm88rXxg",
        "outputId": "3c7ce72d-6a5f-435a-c434-0557ebf56ef4",
        "colab": {
          "base_uri": "https://localhost:8080/"
        }
      },
      "source": [
        "page.row_values(1)"
      ],
      "execution_count": 11,
      "outputs": [
        {
          "output_type": "execute_result",
          "data": {
            "text/plain": [
              "['Poster_Link',\n",
              " 'Series_Title',\n",
              " 'Released_Year',\n",
              " 'Certificate',\n",
              " 'Runtime',\n",
              " 'Genre',\n",
              " 'IMDB_Rating',\n",
              " 'Overview',\n",
              " 'Meta_score',\n",
              " 'Director',\n",
              " 'Star1',\n",
              " 'Star2',\n",
              " 'Star3',\n",
              " 'Star4',\n",
              " 'No_of_Votes',\n",
              " 'Gross']"
            ]
          },
          "metadata": {
            "tags": []
          },
          "execution_count": 11
        }
      ]
    },
    {
      "cell_type": "code",
      "metadata": {
        "id": "bLItO4gIrl72",
        "outputId": "d93a05dc-b069-4e0a-ae04-a4dfd63b5a38",
        "colab": {
          "base_uri": "https://localhost:8080/",
          "height": 35
        }
      },
      "source": [
        "page.cell(1,11).value"
      ],
      "execution_count": 12,
      "outputs": [
        {
          "output_type": "execute_result",
          "data": {
            "application/vnd.google.colaboratory.intrinsic+json": {
              "type": "string"
            },
            "text/plain": [
              "'Star1'"
            ]
          },
          "metadata": {
            "tags": []
          },
          "execution_count": 12
        }
      ]
    },
    {
      "cell_type": "code",
      "metadata": {
        "id": "cN20TOFArl-v",
        "outputId": "23e92e3a-e066-4f30-d0f9-f80a8fa24a8a",
        "colab": {
          "base_uri": "https://localhost:8080/",
          "height": 35
        }
      },
      "source": [
        "page.acell(\"F1\").value"
      ],
      "execution_count": 13,
      "outputs": [
        {
          "output_type": "execute_result",
          "data": {
            "application/vnd.google.colaboratory.intrinsic+json": {
              "type": "string"
            },
            "text/plain": [
              "'Genre'"
            ]
          },
          "metadata": {
            "tags": []
          },
          "execution_count": 13
        }
      ]
    },
    {
      "cell_type": "code",
      "metadata": {
        "id": "na4unWzhsnTh"
      },
      "source": [
        "imdb_top_1000 = pd.DataFrame(page.get_all_records())"
      ],
      "execution_count": 14,
      "outputs": []
    },
    {
      "cell_type": "code",
      "metadata": {
        "id": "0eLUbf49s913",
        "outputId": "ab8d1771-5c06-4aa4-8918-35cabd877883",
        "colab": {
          "base_uri": "https://localhost:8080/",
          "height": 666
        }
      },
      "source": [
        "imdb_top_1000.head()"
      ],
      "execution_count": 15,
      "outputs": [
        {
          "output_type": "execute_result",
          "data": {
            "text/html": [
              "<div>\n",
              "<style scoped>\n",
              "    .dataframe tbody tr th:only-of-type {\n",
              "        vertical-align: middle;\n",
              "    }\n",
              "\n",
              "    .dataframe tbody tr th {\n",
              "        vertical-align: top;\n",
              "    }\n",
              "\n",
              "    .dataframe thead th {\n",
              "        text-align: right;\n",
              "    }\n",
              "</style>\n",
              "<table border=\"1\" class=\"dataframe\">\n",
              "  <thead>\n",
              "    <tr style=\"text-align: right;\">\n",
              "      <th></th>\n",
              "      <th>Poster_Link</th>\n",
              "      <th>Series_Title</th>\n",
              "      <th>Released_Year</th>\n",
              "      <th>Certificate</th>\n",
              "      <th>Runtime</th>\n",
              "      <th>Genre</th>\n",
              "      <th>IMDB_Rating</th>\n",
              "      <th>Overview</th>\n",
              "      <th>Meta_score</th>\n",
              "      <th>Director</th>\n",
              "      <th>Star1</th>\n",
              "      <th>Star2</th>\n",
              "      <th>Star3</th>\n",
              "      <th>Star4</th>\n",
              "      <th>No_of_Votes</th>\n",
              "      <th>Gross</th>\n",
              "    </tr>\n",
              "  </thead>\n",
              "  <tbody>\n",
              "    <tr>\n",
              "      <th>0</th>\n",
              "      <td>https://m.media-amazon.com/images/M/MV5BMDFkYT...</td>\n",
              "      <td>The Shawshank Redemption</td>\n",
              "      <td>1994</td>\n",
              "      <td>A</td>\n",
              "      <td>142 min</td>\n",
              "      <td>Drama</td>\n",
              "      <td>9.3</td>\n",
              "      <td>Two imprisoned men bond over a number of years...</td>\n",
              "      <td>80</td>\n",
              "      <td>Frank Darabont</td>\n",
              "      <td>Tim Robbins</td>\n",
              "      <td>Morgan Freeman</td>\n",
              "      <td>Bob Gunton</td>\n",
              "      <td>William Sadler</td>\n",
              "      <td>2343110</td>\n",
              "      <td>28,341,469</td>\n",
              "    </tr>\n",
              "    <tr>\n",
              "      <th>1</th>\n",
              "      <td>https://m.media-amazon.com/images/M/MV5BM2MyNj...</td>\n",
              "      <td>The Godfather</td>\n",
              "      <td>1972</td>\n",
              "      <td>A</td>\n",
              "      <td>175 min</td>\n",
              "      <td>Crime, Drama</td>\n",
              "      <td>9.2</td>\n",
              "      <td>An organized crime dynasty's aging patriarch t...</td>\n",
              "      <td>100</td>\n",
              "      <td>Francis Ford Coppola</td>\n",
              "      <td>Marlon Brando</td>\n",
              "      <td>Al Pacino</td>\n",
              "      <td>James Caan</td>\n",
              "      <td>Diane Keaton</td>\n",
              "      <td>1620367</td>\n",
              "      <td>134,966,411</td>\n",
              "    </tr>\n",
              "    <tr>\n",
              "      <th>2</th>\n",
              "      <td>https://m.media-amazon.com/images/M/MV5BMTMxNT...</td>\n",
              "      <td>The Dark Knight</td>\n",
              "      <td>2008</td>\n",
              "      <td>UA</td>\n",
              "      <td>152 min</td>\n",
              "      <td>Action, Crime, Drama</td>\n",
              "      <td>9.0</td>\n",
              "      <td>When the menace known as the Joker wreaks havo...</td>\n",
              "      <td>84</td>\n",
              "      <td>Christopher Nolan</td>\n",
              "      <td>Christian Bale</td>\n",
              "      <td>Heath Ledger</td>\n",
              "      <td>Aaron Eckhart</td>\n",
              "      <td>Michael Caine</td>\n",
              "      <td>2303232</td>\n",
              "      <td>534,858,444</td>\n",
              "    </tr>\n",
              "    <tr>\n",
              "      <th>3</th>\n",
              "      <td>https://m.media-amazon.com/images/M/MV5BMWMwMG...</td>\n",
              "      <td>The Godfather: Part II</td>\n",
              "      <td>1974</td>\n",
              "      <td>A</td>\n",
              "      <td>202 min</td>\n",
              "      <td>Crime, Drama</td>\n",
              "      <td>9.0</td>\n",
              "      <td>The early life and career of Vito Corleone in ...</td>\n",
              "      <td>90</td>\n",
              "      <td>Francis Ford Coppola</td>\n",
              "      <td>Al Pacino</td>\n",
              "      <td>Robert De Niro</td>\n",
              "      <td>Robert Duvall</td>\n",
              "      <td>Diane Keaton</td>\n",
              "      <td>1129952</td>\n",
              "      <td>57,300,000</td>\n",
              "    </tr>\n",
              "    <tr>\n",
              "      <th>4</th>\n",
              "      <td>https://m.media-amazon.com/images/M/MV5BMWU4N2...</td>\n",
              "      <td>12 Angry Men</td>\n",
              "      <td>1957</td>\n",
              "      <td>U</td>\n",
              "      <td>96 min</td>\n",
              "      <td>Crime, Drama</td>\n",
              "      <td>9.0</td>\n",
              "      <td>A jury holdout attempts to prevent a miscarria...</td>\n",
              "      <td>96</td>\n",
              "      <td>Sidney Lumet</td>\n",
              "      <td>Henry Fonda</td>\n",
              "      <td>Lee J. Cobb</td>\n",
              "      <td>Martin Balsam</td>\n",
              "      <td>John Fiedler</td>\n",
              "      <td>689845</td>\n",
              "      <td>4,360,000</td>\n",
              "    </tr>\n",
              "  </tbody>\n",
              "</table>\n",
              "</div>"
            ],
            "text/plain": [
              "                                         Poster_Link  ...        Gross\n",
              "0  https://m.media-amazon.com/images/M/MV5BMDFkYT...  ...   28,341,469\n",
              "1  https://m.media-amazon.com/images/M/MV5BM2MyNj...  ...  134,966,411\n",
              "2  https://m.media-amazon.com/images/M/MV5BMTMxNT...  ...  534,858,444\n",
              "3  https://m.media-amazon.com/images/M/MV5BMWMwMG...  ...   57,300,000\n",
              "4  https://m.media-amazon.com/images/M/MV5BMWU4N2...  ...    4,360,000\n",
              "\n",
              "[5 rows x 16 columns]"
            ]
          },
          "metadata": {
            "tags": []
          },
          "execution_count": 15
        }
      ]
    },
    {
      "cell_type": "code",
      "metadata": {
        "id": "YQZCcNxBtN4q",
        "outputId": "41e6b9e7-832a-4b74-93ed-b3d4bbd8271d",
        "colab": {
          "base_uri": "https://localhost:8080/",
          "height": 1000
        }
      },
      "source": [
        "imdb_top_1000.query('Released_Year==2008')\n"
      ],
      "execution_count": 16,
      "outputs": [
        {
          "output_type": "execute_result",
          "data": {
            "text/html": [
              "<div>\n",
              "<style scoped>\n",
              "    .dataframe tbody tr th:only-of-type {\n",
              "        vertical-align: middle;\n",
              "    }\n",
              "\n",
              "    .dataframe tbody tr th {\n",
              "        vertical-align: top;\n",
              "    }\n",
              "\n",
              "    .dataframe thead th {\n",
              "        text-align: right;\n",
              "    }\n",
              "</style>\n",
              "<table border=\"1\" class=\"dataframe\">\n",
              "  <thead>\n",
              "    <tr style=\"text-align: right;\">\n",
              "      <th></th>\n",
              "      <th>Poster_Link</th>\n",
              "      <th>Series_Title</th>\n",
              "      <th>Released_Year</th>\n",
              "      <th>Certificate</th>\n",
              "      <th>Runtime</th>\n",
              "      <th>Genre</th>\n",
              "      <th>IMDB_Rating</th>\n",
              "      <th>Overview</th>\n",
              "      <th>Meta_score</th>\n",
              "      <th>Director</th>\n",
              "      <th>Star1</th>\n",
              "      <th>Star2</th>\n",
              "      <th>Star3</th>\n",
              "      <th>Star4</th>\n",
              "      <th>No_of_Votes</th>\n",
              "      <th>Gross</th>\n",
              "    </tr>\n",
              "  </thead>\n",
              "  <tbody>\n",
              "    <tr>\n",
              "      <th>2</th>\n",
              "      <td>https://m.media-amazon.com/images/M/MV5BMTMxNT...</td>\n",
              "      <td>The Dark Knight</td>\n",
              "      <td>2008</td>\n",
              "      <td>UA</td>\n",
              "      <td>152 min</td>\n",
              "      <td>Action, Crime, Drama</td>\n",
              "      <td>9.0</td>\n",
              "      <td>When the menace known as the Joker wreaks havo...</td>\n",
              "      <td>84</td>\n",
              "      <td>Christopher Nolan</td>\n",
              "      <td>Christian Bale</td>\n",
              "      <td>Heath Ledger</td>\n",
              "      <td>Aaron Eckhart</td>\n",
              "      <td>Michael Caine</td>\n",
              "      <td>2303232</td>\n",
              "      <td>534,858,444</td>\n",
              "    </tr>\n",
              "    <tr>\n",
              "      <th>66</th>\n",
              "      <td>https://m.media-amazon.com/images/M/MV5BMjExMT...</td>\n",
              "      <td>WALL·E</td>\n",
              "      <td>2008</td>\n",
              "      <td>U</td>\n",
              "      <td>98 min</td>\n",
              "      <td>Animation, Adventure, Family</td>\n",
              "      <td>8.4</td>\n",
              "      <td>In the distant future, a small waste-collectin...</td>\n",
              "      <td>95</td>\n",
              "      <td>Andrew Stanton</td>\n",
              "      <td>Ben Burtt</td>\n",
              "      <td>Elissa Knight</td>\n",
              "      <td>Jeff Garlin</td>\n",
              "      <td>Fred Willard</td>\n",
              "      <td>999790</td>\n",
              "      <td>223,808,164</td>\n",
              "    </tr>\n",
              "    <tr>\n",
              "      <th>224</th>\n",
              "      <td>https://m.media-amazon.com/images/M/MV5BOTcwMz...</td>\n",
              "      <td>A Wednesday</td>\n",
              "      <td>2008</td>\n",
              "      <td>UA</td>\n",
              "      <td>104 min</td>\n",
              "      <td>Action, Crime, Drama</td>\n",
              "      <td>8.1</td>\n",
              "      <td>A retiring police officer reminisces about the...</td>\n",
              "      <td></td>\n",
              "      <td>Neeraj Pandey</td>\n",
              "      <td>Anupam Kher</td>\n",
              "      <td>Naseeruddin Shah</td>\n",
              "      <td>Jimmy Sheirgill</td>\n",
              "      <td>Aamir Bashir</td>\n",
              "      <td>73891</td>\n",
              "      <td></td>\n",
              "    </tr>\n",
              "    <tr>\n",
              "      <th>225</th>\n",
              "      <td>https://m.media-amazon.com/images/M/MV5BMTc5NT...</td>\n",
              "      <td>Gran Torino</td>\n",
              "      <td>2008</td>\n",
              "      <td>R</td>\n",
              "      <td>116 min</td>\n",
              "      <td>Drama</td>\n",
              "      <td>8.1</td>\n",
              "      <td>Disgruntled Korean War veteran Walt Kowalski s...</td>\n",
              "      <td>72</td>\n",
              "      <td>Clint Eastwood</td>\n",
              "      <td>Clint Eastwood</td>\n",
              "      <td>Bee Vang</td>\n",
              "      <td>Christopher Carley</td>\n",
              "      <td>Ahney Her</td>\n",
              "      <td>720450</td>\n",
              "      <td>148,095,302</td>\n",
              "    </tr>\n",
              "    <tr>\n",
              "      <th>227</th>\n",
              "      <td>https://m.media-amazon.com/images/M/MV5BMTUzOT...</td>\n",
              "      <td>Okuribito</td>\n",
              "      <td>2008</td>\n",
              "      <td>PG-13</td>\n",
              "      <td>130 min</td>\n",
              "      <td>Drama, Music</td>\n",
              "      <td>8.1</td>\n",
              "      <td>A newly unemployed cellist takes a job prepari...</td>\n",
              "      <td>68</td>\n",
              "      <td>Yôjirô Takita</td>\n",
              "      <td>Masahiro Motoki</td>\n",
              "      <td>Ryôko Hirosue</td>\n",
              "      <td>Tsutomu Yamazaki</td>\n",
              "      <td>Kazuko Yoshiyuki</td>\n",
              "      <td>48582</td>\n",
              "      <td>1,498,210</td>\n",
              "    </tr>\n",
              "    <tr>\n",
              "      <th>351</th>\n",
              "      <td>https://m.media-amazon.com/images/M/MV5BNTFmMj...</td>\n",
              "      <td>Yip Man</td>\n",
              "      <td>2008</td>\n",
              "      <td>R</td>\n",
              "      <td>106 min</td>\n",
              "      <td>Action, Biography, Drama</td>\n",
              "      <td>8.0</td>\n",
              "      <td>During the Japanese invasion of China, a wealt...</td>\n",
              "      <td>59</td>\n",
              "      <td>Wilson Yip</td>\n",
              "      <td>Donnie Yen</td>\n",
              "      <td>Simon Yam</td>\n",
              "      <td>Siu-Wong Fan</td>\n",
              "      <td>Ka Tung Lam</td>\n",
              "      <td>211427</td>\n",
              "      <td></td>\n",
              "    </tr>\n",
              "    <tr>\n",
              "      <th>354</th>\n",
              "      <td>https://m.media-amazon.com/images/M/MV5BZmNjZW...</td>\n",
              "      <td>Slumdog Millionaire</td>\n",
              "      <td>2008</td>\n",
              "      <td>UA</td>\n",
              "      <td>120 min</td>\n",
              "      <td>Drama, Romance</td>\n",
              "      <td>8.0</td>\n",
              "      <td>A Mumbai teenager reflects on his life after b...</td>\n",
              "      <td>84</td>\n",
              "      <td>Danny Boyle</td>\n",
              "      <td>Loveleen Tandan</td>\n",
              "      <td>Dev Patel</td>\n",
              "      <td>Freida Pinto</td>\n",
              "      <td>Saurabh Shukla</td>\n",
              "      <td>798882</td>\n",
              "      <td>141,319,928</td>\n",
              "    </tr>\n",
              "    <tr>\n",
              "      <th>487</th>\n",
              "      <td>https://m.media-amazon.com/images/M/MV5BOWM4NT...</td>\n",
              "      <td>Låt den rätte komma in</td>\n",
              "      <td>2008</td>\n",
              "      <td>R</td>\n",
              "      <td>114 min</td>\n",
              "      <td>Crime, Drama, Fantasy</td>\n",
              "      <td>7.9</td>\n",
              "      <td>Oskar, an overlooked and bullied boy, finds lo...</td>\n",
              "      <td>82</td>\n",
              "      <td>Tomas Alfredson</td>\n",
              "      <td>Kåre Hedebrant</td>\n",
              "      <td>Lina Leandersson</td>\n",
              "      <td>Per Ragnar</td>\n",
              "      <td>Henrik Dahl</td>\n",
              "      <td>205609</td>\n",
              "      <td>2,122,065</td>\n",
              "    </tr>\n",
              "    <tr>\n",
              "      <th>489</th>\n",
              "      <td>https://m.media-amazon.com/images/M/MV5BMTc5Mj...</td>\n",
              "      <td>The Wrestler</td>\n",
              "      <td>2008</td>\n",
              "      <td>UA</td>\n",
              "      <td>109 min</td>\n",
              "      <td>Drama, Sport</td>\n",
              "      <td>7.9</td>\n",
              "      <td>A faded professional wrestler must retire, but...</td>\n",
              "      <td>80</td>\n",
              "      <td>Darren Aronofsky</td>\n",
              "      <td>Mickey Rourke</td>\n",
              "      <td>Marisa Tomei</td>\n",
              "      <td>Evan Rachel Wood</td>\n",
              "      <td>Mark Margolis</td>\n",
              "      <td>289415</td>\n",
              "      <td>26,236,603</td>\n",
              "    </tr>\n",
              "    <tr>\n",
              "      <th>494</th>\n",
              "      <td>https://m.media-amazon.com/images/M/MV5BMTUwOG...</td>\n",
              "      <td>In Bruges</td>\n",
              "      <td>2008</td>\n",
              "      <td>R</td>\n",
              "      <td>107 min</td>\n",
              "      <td>Comedy, Crime, Drama</td>\n",
              "      <td>7.9</td>\n",
              "      <td>Guilt-stricken after a job gone wrong, hitman ...</td>\n",
              "      <td>67</td>\n",
              "      <td>Martin McDonagh</td>\n",
              "      <td>Colin Farrell</td>\n",
              "      <td>Brendan Gleeson</td>\n",
              "      <td>Ciarán Hinds</td>\n",
              "      <td>Elizabeth Berrington</td>\n",
              "      <td>390334</td>\n",
              "      <td>7,757,130</td>\n",
              "    </tr>\n",
              "    <tr>\n",
              "      <th>502</th>\n",
              "      <td>https://m.media-amazon.com/images/M/MV5BMTczNT...</td>\n",
              "      <td>Iron Man</td>\n",
              "      <td>2008</td>\n",
              "      <td>UA</td>\n",
              "      <td>126 min</td>\n",
              "      <td>Action, Adventure, Sci-Fi</td>\n",
              "      <td>7.9</td>\n",
              "      <td>After being held captive in an Afghan cave, bi...</td>\n",
              "      <td>79</td>\n",
              "      <td>Jon Favreau</td>\n",
              "      <td>Robert Downey Jr.</td>\n",
              "      <td>Gwyneth Paltrow</td>\n",
              "      <td>Terrence Howard</td>\n",
              "      <td>Jeff Bridges</td>\n",
              "      <td>939644</td>\n",
              "      <td>318,412,101</td>\n",
              "    </tr>\n",
              "    <tr>\n",
              "      <th>608</th>\n",
              "      <td>https://m.media-amazon.com/images/M/MV5BY2ViOT...</td>\n",
              "      <td>Chugyeokja</td>\n",
              "      <td>2008</td>\n",
              "      <td></td>\n",
              "      <td>125 min</td>\n",
              "      <td>Action, Crime, Thriller</td>\n",
              "      <td>7.8</td>\n",
              "      <td>A disgraced ex-policeman who runs a small ring...</td>\n",
              "      <td>64</td>\n",
              "      <td>Hong-jin Na</td>\n",
              "      <td>Kim Yoon-seok</td>\n",
              "      <td>Jung-woo Ha</td>\n",
              "      <td>Yeong-hie Seo</td>\n",
              "      <td>Yoo-Jeong Kim</td>\n",
              "      <td>58468</td>\n",
              "      <td></td>\n",
              "    </tr>\n",
              "    <tr>\n",
              "      <th>615</th>\n",
              "      <td>https://m.media-amazon.com/images/M/MV5BMTM4Nz...</td>\n",
              "      <td>Taken</td>\n",
              "      <td>2008</td>\n",
              "      <td>A</td>\n",
              "      <td>90 min</td>\n",
              "      <td>Action, Thriller</td>\n",
              "      <td>7.8</td>\n",
              "      <td>A retired CIA agent travels across Europe and ...</td>\n",
              "      <td>51</td>\n",
              "      <td>Pierre Morel</td>\n",
              "      <td>Liam Neeson</td>\n",
              "      <td>Maggie Grace</td>\n",
              "      <td>Famke Janssen</td>\n",
              "      <td>Leland Orser</td>\n",
              "      <td>564791</td>\n",
              "      <td>145,000,989</td>\n",
              "    </tr>\n",
              "    <tr>\n",
              "      <th>616</th>\n",
              "      <td>https://m.media-amazon.com/images/M/MV5BMTMzMT...</td>\n",
              "      <td>The Boy in the Striped Pyjamas</td>\n",
              "      <td>2008</td>\n",
              "      <td>PG-13</td>\n",
              "      <td>94 min</td>\n",
              "      <td>Drama, History, War</td>\n",
              "      <td>7.8</td>\n",
              "      <td>Through the innocent eyes of Bruno, the eight-...</td>\n",
              "      <td>55</td>\n",
              "      <td>Mark Herman</td>\n",
              "      <td>Asa Butterfield</td>\n",
              "      <td>David Thewlis</td>\n",
              "      <td>Rupert Friend</td>\n",
              "      <td>Zac Mattoon O'Brien</td>\n",
              "      <td>190748</td>\n",
              "      <td>9,030,581</td>\n",
              "    </tr>\n",
              "    <tr>\n",
              "      <th>628</th>\n",
              "      <td>https://m.media-amazon.com/images/M/MV5BNjQ0NT...</td>\n",
              "      <td>The Curious Case of Benjamin Button</td>\n",
              "      <td>2008</td>\n",
              "      <td>UA</td>\n",
              "      <td>166 min</td>\n",
              "      <td>Drama, Fantasy, Romance</td>\n",
              "      <td>7.8</td>\n",
              "      <td>Tells the story of Benjamin Button, a man who ...</td>\n",
              "      <td>70</td>\n",
              "      <td>David Fincher</td>\n",
              "      <td>Brad Pitt</td>\n",
              "      <td>Cate Blanchett</td>\n",
              "      <td>Tilda Swinton</td>\n",
              "      <td>Julia Ormond</td>\n",
              "      <td>589160</td>\n",
              "      <td>127,509,326</td>\n",
              "    </tr>\n",
              "    <tr>\n",
              "      <th>756</th>\n",
              "      <td>https://m.media-amazon.com/images/M/MV5BOTc3Ym...</td>\n",
              "      <td>Gake no ue no Ponyo</td>\n",
              "      <td>2008</td>\n",
              "      <td>U</td>\n",
              "      <td>101 min</td>\n",
              "      <td>Animation, Adventure, Comedy</td>\n",
              "      <td>7.7</td>\n",
              "      <td>A five-year-old boy develops a relationship wi...</td>\n",
              "      <td>86</td>\n",
              "      <td>Hayao Miyazaki</td>\n",
              "      <td>Cate Blanchett</td>\n",
              "      <td>Matt Damon</td>\n",
              "      <td>Liam Neeson</td>\n",
              "      <td>Tomoko Yamaguchi</td>\n",
              "      <td>125317</td>\n",
              "      <td>15,090,400</td>\n",
              "    </tr>\n",
              "    <tr>\n",
              "      <th>757</th>\n",
              "      <td>https://m.media-amazon.com/images/M/MV5BOTY4NT...</td>\n",
              "      <td>Frost/Nixon</td>\n",
              "      <td>2008</td>\n",
              "      <td>R</td>\n",
              "      <td>122 min</td>\n",
              "      <td>Biography, Drama, History</td>\n",
              "      <td>7.7</td>\n",
              "      <td>A dramatic retelling of the post-Watergate tel...</td>\n",
              "      <td>80</td>\n",
              "      <td>Ron Howard</td>\n",
              "      <td>Frank Langella</td>\n",
              "      <td>Michael Sheen</td>\n",
              "      <td>Kevin Bacon</td>\n",
              "      <td>Sam Rockwell</td>\n",
              "      <td>103330</td>\n",
              "      <td>18,593,156</td>\n",
              "    </tr>\n",
              "    <tr>\n",
              "      <th>759</th>\n",
              "      <td>https://m.media-amazon.com/images/M/MV5BOTA1Mz...</td>\n",
              "      <td>Changeling</td>\n",
              "      <td>2008</td>\n",
              "      <td>R</td>\n",
              "      <td>141 min</td>\n",
              "      <td>Biography, Crime, Drama</td>\n",
              "      <td>7.7</td>\n",
              "      <td>Grief-stricken mother Christine Collins (Angel...</td>\n",
              "      <td>63</td>\n",
              "      <td>Clint Eastwood</td>\n",
              "      <td>Angelina Jolie</td>\n",
              "      <td>Colm Feore</td>\n",
              "      <td>Amy Ryan</td>\n",
              "      <td>Gattlin Griffith</td>\n",
              "      <td>239203</td>\n",
              "      <td>35,739,802</td>\n",
              "    </tr>\n",
              "    <tr>\n",
              "      <th>913</th>\n",
              "      <td>https://m.media-amazon.com/images/M/MV5BMzc0Zm...</td>\n",
              "      <td>Die Welle</td>\n",
              "      <td>2008</td>\n",
              "      <td></td>\n",
              "      <td>107 min</td>\n",
              "      <td>Drama, Thriller</td>\n",
              "      <td>7.6</td>\n",
              "      <td>A high school teacher's experiment to demonstr...</td>\n",
              "      <td></td>\n",
              "      <td>Dennis Gansel</td>\n",
              "      <td>Jürgen Vogel</td>\n",
              "      <td>Frederick Lau</td>\n",
              "      <td>Max Riemelt</td>\n",
              "      <td>Jennifer Ulrich</td>\n",
              "      <td>102742</td>\n",
              "      <td></td>\n",
              "    </tr>\n",
              "    <tr>\n",
              "      <th>917</th>\n",
              "      <td>https://m.media-amazon.com/images/M/MV5BMTU0Nz...</td>\n",
              "      <td>Seven Pounds</td>\n",
              "      <td>2008</td>\n",
              "      <td>UA</td>\n",
              "      <td>123 min</td>\n",
              "      <td>Drama</td>\n",
              "      <td>7.6</td>\n",
              "      <td>A man with a fateful secret embarks on an extr...</td>\n",
              "      <td>36</td>\n",
              "      <td>Gabriele Muccino</td>\n",
              "      <td>Will Smith</td>\n",
              "      <td>Rosario Dawson</td>\n",
              "      <td>Woody Harrelson</td>\n",
              "      <td>Michael Ealy</td>\n",
              "      <td>286770</td>\n",
              "      <td>69,951,824</td>\n",
              "    </tr>\n",
              "    <tr>\n",
              "      <th>933</th>\n",
              "      <td>https://m.media-amazon.com/images/M/MV5BMjA0Mj...</td>\n",
              "      <td>Synecdoche, New York</td>\n",
              "      <td>2008</td>\n",
              "      <td>R</td>\n",
              "      <td>124 min</td>\n",
              "      <td>Drama</td>\n",
              "      <td>7.6</td>\n",
              "      <td>A theatre director struggles with his work, an...</td>\n",
              "      <td>67</td>\n",
              "      <td>Charlie Kaufman</td>\n",
              "      <td>Philip Seymour Hoffman</td>\n",
              "      <td>Samantha Morton</td>\n",
              "      <td>Michelle Williams</td>\n",
              "      <td>Catherine Keener</td>\n",
              "      <td>83158</td>\n",
              "      <td>3,081,925</td>\n",
              "    </tr>\n",
              "  </tbody>\n",
              "</table>\n",
              "</div>"
            ],
            "text/plain": [
              "                                           Poster_Link  ...        Gross\n",
              "2    https://m.media-amazon.com/images/M/MV5BMTMxNT...  ...  534,858,444\n",
              "66   https://m.media-amazon.com/images/M/MV5BMjExMT...  ...  223,808,164\n",
              "224  https://m.media-amazon.com/images/M/MV5BOTcwMz...  ...             \n",
              "225  https://m.media-amazon.com/images/M/MV5BMTc5NT...  ...  148,095,302\n",
              "227  https://m.media-amazon.com/images/M/MV5BMTUzOT...  ...    1,498,210\n",
              "351  https://m.media-amazon.com/images/M/MV5BNTFmMj...  ...             \n",
              "354  https://m.media-amazon.com/images/M/MV5BZmNjZW...  ...  141,319,928\n",
              "487  https://m.media-amazon.com/images/M/MV5BOWM4NT...  ...    2,122,065\n",
              "489  https://m.media-amazon.com/images/M/MV5BMTc5Mj...  ...   26,236,603\n",
              "494  https://m.media-amazon.com/images/M/MV5BMTUwOG...  ...    7,757,130\n",
              "502  https://m.media-amazon.com/images/M/MV5BMTczNT...  ...  318,412,101\n",
              "608  https://m.media-amazon.com/images/M/MV5BY2ViOT...  ...             \n",
              "615  https://m.media-amazon.com/images/M/MV5BMTM4Nz...  ...  145,000,989\n",
              "616  https://m.media-amazon.com/images/M/MV5BMTMzMT...  ...    9,030,581\n",
              "628  https://m.media-amazon.com/images/M/MV5BNjQ0NT...  ...  127,509,326\n",
              "756  https://m.media-amazon.com/images/M/MV5BOTc3Ym...  ...   15,090,400\n",
              "757  https://m.media-amazon.com/images/M/MV5BOTY4NT...  ...   18,593,156\n",
              "759  https://m.media-amazon.com/images/M/MV5BOTA1Mz...  ...   35,739,802\n",
              "913  https://m.media-amazon.com/images/M/MV5BMzc0Zm...  ...             \n",
              "917  https://m.media-amazon.com/images/M/MV5BMTU0Nz...  ...   69,951,824\n",
              "933  https://m.media-amazon.com/images/M/MV5BMjA0Mj...  ...    3,081,925\n",
              "\n",
              "[21 rows x 16 columns]"
            ]
          },
          "metadata": {
            "tags": []
          },
          "execution_count": 16
        }
      ]
    },
    {
      "cell_type": "code",
      "metadata": {
        "id": "y0Ex-247uQBJ",
        "outputId": "0e872836-a1f4-4c13-cb62-8f31b394269a",
        "colab": {
          "base_uri": "https://localhost:8080/",
          "height": 704
        }
      },
      "source": [
        "import matplotlib.pyplot as plt\n",
        "\n",
        "imdb_top_1000.groupby('Genre').size().sort_values().tail(10).plot(kind='bar', color='orange',figsize=(7,7), fontsize=(14))\n",
        "plt.title('Generos para uma amostragem de 10 dados', fontsize=(16))\n",
        "plt.xlabel('Generos', fontsize=(9))\n",
        "plt.ylabel('valores', fontsize=(16))\n",
        "plt.xticks(rotation=80)"
      ],
      "execution_count": 32,
      "outputs": [
        {
          "output_type": "execute_result",
          "data": {
            "text/plain": [
              "(array([0, 1, 2, 3, 4, 5, 6, 7, 8, 9]),\n",
              " <a list of 10 Text major ticklabel objects>)"
            ]
          },
          "metadata": {
            "tags": []
          },
          "execution_count": 32
        },
        {
          "output_type": "display_data",
          "data": {
            "image/png": "[encoded data removed]",
            "text/plain": [
              "<Figure size 504x504 with 1 Axes>"
            ]
          },
          "metadata": {
            "tags": [],
            "needs_background": "light"
          }
        }
      ]
    },
    {
      "cell_type": "code",
      "metadata": {
        "id": "sCwabw9ey5oS",
        "outputId": "9fc062d3-e6ec-4b4a-e91c-4f6ba24c8b6c",
        "colab": {
          "base_uri": "https://localhost:8080/",
          "height": 628
        }
      },
      "source": [
        "imdb_top_1000.query('Genre == \"Drama\"').groupby('Series_Title').size().sort_values().tail(10).plot(kind='barh', color='blue',figsize=(9,9), fontsize=(15))\n",
        "plt.title('Valores', fontsize=(16))\n",
        "plt.xlabel('Genero', fontsize=(16))\n",
        "plt.ylabel('Filmes', fontsize=(0.2))\n",
        "plt.xticks(rotation=50)"
      ],
      "execution_count": 59,
      "outputs": [
        {
          "output_type": "execute_result",
          "data": {
            "text/plain": [
              "(array([0. , 0.2, 0.4, 0.6, 0.8, 1. , 1.2]),\n",
              " <a list of 7 Text major ticklabel objects>)"
            ]
          },
          "metadata": {
            "tags": []
          },
          "execution_count": 59
        },
        {
          "output_type": "display_data",
          "data": {
            "image/png": "[encoded data removed]",
            "text/plain": [
              "<Figure size 648x648 with 1 Axes>"
            ]
          },
          "metadata": {
            "tags": [],
            "needs_background": "light"
          }
        }
      ]
    },
    {
      "cell_type": "code",
      "metadata": {
        "id": "Nbua-KjC29mD"
      },
      "source": [
        "import sklearn"
      ],
      "execution_count": 64,
      "outputs": []
    },
    {
      "cell_type": "code",
      "metadata": {
        "id": "bbM61wNC4jBT",
        "outputId": "991db744-62d2-4a2f-f44a-ee3a4b8d97ca",
        "colab": {
          "base_uri": "https://localhost:8080/"
        }
      },
      "source": [
        "!pip install lib"
      ],
      "execution_count": 65,
      "outputs": [
        {
          "output_type": "stream",
          "text": [
            "Collecting lib\n",
            "  Downloading https://files.pythonhosted.org/packages/5c/15/f8ba504146fbe6f1bcb79786fd9b9cb45e5e3ff4c4536d1418d83fdd143c/lib-3.0.0.tar.gz\n",
            "Building wheels for collected packages: lib\n",
            "  Building wheel for lib (setup.py) ... \u001b[?25l\u001b[?25hdone\n",
            "  Created wheel for lib: filename=lib-3.0.0-cp37-none-any.whl size=3213 sha256=188106ae6420549869e4decc9e4b9e40d90ca8bd2e0cf1ce6292c4aab2b7932c\n",
            "  Stored in directory: /root/.cache/pip/wheels/52/de/da/0ef2064c4b4a213d27518228ebd79a2349e1b81341b05f7196\n",
            "Successfully built lib\n",
            "Installing collected packages: lib\n",
            "Successfully installed lib-3.0.0\n"
          ],
          "name": "stdout"
        }
      ]
    },
    {
      "cell_type": "code",
      "metadata": {
        "id": "3lTU2SG64wYW"
      },
      "source": [
        "import numpy as np"
      ],
      "execution_count": 66,
      "outputs": []
    },
    {
      "cell_type": "code",
      "metadata": {
        "id": "zKAmXw-v4jEu"
      },
      "source": [
        ""
      ],
      "execution_count": null,
      "outputs": []
    }
  ]
}